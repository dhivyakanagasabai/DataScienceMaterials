{
 "cells": [
  {
   "cell_type": "markdown",
   "metadata": {},
   "source": [
    "## FLOAT ASSIGNMENT"
   ]
  },
  {
   "cell_type": "code",
   "execution_count": 1,
   "metadata": {},
   "outputs": [
    {
     "name": "stdout",
     "output_type": "stream",
     "text": [
      "5.2 <class 'float'> 1312470473320\n"
     ]
    }
   ],
   "source": [
    "# Q. Declare a float value and store it in a variable.\n",
    "# Check the type and print the id of the same.\n",
    "\n",
    "value = 7.2\n",
    "print(value, type(value), id(value))"
   ]
  },
  {
   "cell_type": "code",
   "execution_count": 3,
   "metadata": {},
   "outputs": [
    {
     "name": "stdout",
     "output_type": "stream",
     "text": [
      "Sum:  16.4\n",
      "Difference:  8.4\n",
      "Product:  49.6\n",
      "Division:  3.1\n",
      "Remainder:  0.40000000000000036\n",
      "Quotient:  3.0\n",
      "Power:  23642.137600000002\n"
     ]
    }
   ],
   "source": [
    "# Q. Arithmetic Operations on float\n",
    "# Take two different float values.\n",
    "# Store them in two different variables.\n",
    "# Do below operations on them:-\n",
    "# Find sum of both numbers\n",
    "# Find difference between them\n",
    "# Find the product of both numbers.\n",
    "# Find value after dividing first num with second number\n",
    "# Find the remainder after dividing first number with second number\n",
    "# Find the quotient after dividing first number with second number\n",
    "# Find the result of the first num to the power of the second number.\n",
    "\n",
    "n1 = 12.4\n",
    "n2 = 4.0\n",
    "print('Sum: ',n1+n2)\n",
    "print('Difference: ',n1-n2)\n",
    "print('Product: ',n1*n2)\n",
    "print('Division: ',n1/n2)\n",
    "print('Remainder: ',n1%n2)\n",
    "print('Quotient: ',n1//n2)\n",
    "print('Power: ',n1**n2)\n",
    "\n"
   ]
  },
  {
   "cell_type": "code",
   "execution_count": 4,
   "metadata": {},
   "outputs": [
    {
     "name": "stdout",
     "output_type": "stream",
     "text": [
      "3.1 greater than 9.4 : False\n",
      "3.1 less than 9.4 : True\n",
      "3.1 greater than or equal to 9.4 : False\n",
      "3.1 less than or equal to 9.4 : True\n"
     ]
    }
   ],
   "source": [
    "# Q. Comparison Operators on float\n",
    "# Take two different float values.\n",
    "# Store them in two different variables.\n",
    "# Do below operations on them:-\n",
    "# Compare these two numbers with below operator:-\n",
    "# Greater than, '>'\n",
    "# Smaller than, '<'\n",
    "# Greater than or equal to, '>='\n",
    "# Less than or equal to, '<='\n",
    "# Observe their output(return type should be boolean)\n",
    "\n",
    "a = 3.1\n",
    "b = 9.4\n",
    "print(a, 'greater than', b, ':', a>b)\n",
    "print(a, 'less than', b, ':', a<b)\n",
    "print(a, 'greater than or equal to', b, ':', a>=b)\n",
    "print(a, 'less than or equal to', b, ':', a<=b)"
   ]
  },
  {
   "cell_type": "code",
   "execution_count": 5,
   "metadata": {},
   "outputs": [
    {
     "name": "stdout",
     "output_type": "stream",
     "text": [
      "8.5 equal to 4.7 : False\n",
      "8.5 not equal to 4.7 : True\n"
     ]
    }
   ],
   "source": [
    "# Q. Equality Operator\n",
    "# Take two different float values.\n",
    "# Store them in two different variables.\n",
    "# Equate them using equality operators (==, !=)\n",
    "# Observe the output(return type should be boolean)\n",
    "\n",
    "a = 8.5\n",
    "b = 4.7\n",
    "print(a, 'equal to', b, ':', a==b)\n",
    "print(a, 'not equal to', b, ':', a!=b)"
   ]
  },
  {
   "cell_type": "code",
   "execution_count": 6,
   "metadata": {},
   "outputs": [
    {
     "name": "stdout",
     "output_type": "stream",
     "text": [
      "20.3\n",
      "0.0\n",
      "0.0\n",
      "0.0\n",
      "10.2\n",
      "20.3\n",
      "20.3\n",
      "0.0\n",
      "False\n",
      "True\n"
     ]
    }
   ],
   "source": [
    "# Q. Logical operators\n",
    "# Observe the output of below code\n",
    "# Cross check the output manually\n",
    "\n",
    "print ( 10.20 and 20.30 ) #20.30\n",
    "print ( 0.0 and 20.30 ) #0.0\n",
    "print ( 20.30 and 0.0 ) #0.0\n",
    "print ( 0.0 and 0.0 ) #0.0\n",
    "print ( 10.20 or 20.30 ) #10.20\n",
    "print ( 0.0 or 20.30 ) #20.30\n",
    "print ( 20.30 or 0.0 ) #20.30\n",
    "print ( 0.0 or 0.0 ) #0.0\n",
    "print ( not 10.20 ) #False\n",
    "print ( not 0 ) #True\n"
   ]
  },
  {
   "cell_type": "code",
   "execution_count": 7,
   "metadata": {},
   "outputs": [
    {
     "name": "stdout",
     "output_type": "stream",
     "text": [
      "False\n",
      "True\n"
     ]
    }
   ],
   "source": [
    "# Q. What is the output of expression inside print statement. Cross check\n",
    "# before running the program.\n",
    "# a = 10.20\n",
    "# b - 10.20\n",
    "# print (a is b) #True or False? True 10.20<256\n",
    "# print (a is not b) #True or False? False\n",
    "# Why the Id of float values are different when the same value is\n",
    "# assigned to two different variables\n",
    "# ex: a = 10.5 b=10.5. but id will be same if I assign the variable\n",
    "# having float i.e. a=c then both a and c's Id are same\n",
    "\n",
    "a = 10.20\n",
    "b = 10.20\n",
    "print(a is b) #False\n",
    "print(a is not b) #True\n",
    "#Float value doesn't have object reusability in Python"
   ]
  },
  {
   "cell_type": "code",
   "execution_count": 40,
   "metadata": {},
   "outputs": [
    {
     "name": "stdout",
     "output_type": "stream",
     "text": [
      "True\n",
      "False\n",
      "False\n",
      "True\n"
     ]
    }
   ],
   "source": [
    "# Q. Bitwise operation is not applicable between instances of float.\n",
    "# Why the Id of float values are different when the same value is\n",
    "# assigned to two different variables\n",
    "# ex: a = 10.5 b=10.5. but id will be same if I assign the variable\n",
    "# having float i.e. a=c then both a and c's Id are same\n",
    "# Object reusability concept is not applicable on float values.\n",
    "\n",
    "#A. Float value doesn't have object reusability in Python"
   ]
  },
  {
   "cell_type": "code",
   "execution_count": 8,
   "metadata": {},
   "outputs": [
    {
     "name": "stdout",
     "output_type": "stream",
     "text": [
      "True\n",
      "True\n",
      "True\n",
      "True\n",
      "True\n",
      "True\n"
     ]
    }
   ],
   "source": [
    "# Q. Membership operation\n",
    "# in, not in are two membership operators and it returns boolean value\n",
    "print ( '2.7' in 'Python2.7.8' ) #True\n",
    "print ( 10.20 in [ 10 , 10.20 , 10 + 20j , 'Python' ]) #True\n",
    "print ( 10.20 in ( 10 , 10.20 , 10 + 20j , 'Python' )) # True\n",
    "print ( 20.30 in { 1 , 20.30 , 30 + 40j }) # True\n",
    "print ( 2.3 in { 1 : 100 , 2.3 : 200 , 30 + 40j : 300 }) # True\n",
    "print ( 10 in range ( 20 )) # True"
   ]
  }
 ],
 "metadata": {
  "kernelspec": {
   "display_name": "Python 3",
   "language": "python",
   "name": "python3"
  },
  "language_info": {
   "codemirror_mode": {
    "name": "ipython",
    "version": 3
   },
   "file_extension": ".py",
   "mimetype": "text/x-python",
   "name": "python",
   "nbconvert_exporter": "python",
   "pygments_lexer": "ipython3",
   "version": "3.6.5"
  }
 },
 "nbformat": 4,
 "nbformat_minor": 2
}
