{
 "cells": [
  {
   "cell_type": "markdown",
   "metadata": {},
   "source": [
    "## BOOLEAN ASSIGNMENT"
   ]
  },
  {
   "cell_type": "code",
   "execution_count": 2,
   "metadata": {},
   "outputs": [
    {
     "name": "stdout",
     "output_type": "stream",
     "text": [
      "True <class 'str'> 2121750078608\n"
     ]
    }
   ],
   "source": [
    "# Q. Declare a boolean value and store it in a variable.\n",
    "# Check the type and print the id of the same.\n",
    "\n",
    "boolean = 'True'\n",
    "print(boolean, type(boolean), id(boolean))"
   ]
  },
  {
   "cell_type": "code",
   "execution_count": 18,
   "metadata": {},
   "outputs": [
    {
     "name": "stdout",
     "output_type": "stream",
     "text": [
      "False 1360751648\n",
      "False 1360751648\n"
     ]
    }
   ],
   "source": [
    "# Q. Take one boolean value between 0 - 256.\n",
    "# Assign it to two different variables.\n",
    "# Check the id of both the variables. It should come the same. Check why?\n",
    "\n",
    "bool1 = 250\n",
    "bool2 = 250\n",
    "print(bool(bool1), id(bool1))\n",
    "print(bool(bool2), id(bool2))\n",
    "\n",
    "#A. object reusuability. values between 0 - 256 will refer to same memory reference."
   ]
  },
  {
   "cell_type": "code",
   "execution_count": 21,
   "metadata": {},
   "outputs": [
    {
     "name": "stdout",
     "output_type": "stream",
     "text": [
      "Sum:  1\n",
      "Difference:  -1\n",
      "Product:  0\n",
      "Division:  0.0\n",
      "Remainder:  0\n",
      "Quotient:  0\n",
      "Power:  0\n"
     ]
    }
   ],
   "source": [
    "# Q. Arithmetic Operations on boolean data\n",
    "# Take two different boolean values.\n",
    "# Store them in two different variables.\n",
    "# Do below operations on them:-\n",
    "# Find sum of both values\n",
    "# Find difference between them\n",
    "# Find the product of both.\n",
    "# Find value after dividing first value with second value\n",
    "# Find the remainder after dividing first value with second value\n",
    "# Find the quotient after dividing first value with second value\n",
    "# Find the result of first value to the power of second value.\n",
    "\n",
    "b1 = False\n",
    "b2 = True\n",
    "print('Sum: ',b1+b2)\n",
    "print('Difference: ',b1-b2)\n",
    "print('Product: ',b1*b2)\n",
    "print('Division: ',b1/b2)\n",
    "print('Remainder: ',b1%b2)\n",
    "print('Quotient: ',b1//b2)\n",
    "print('Power: ',b1**b2)"
   ]
  },
  {
   "cell_type": "code",
   "execution_count": 25,
   "metadata": {},
   "outputs": [
    {
     "name": "stdout",
     "output_type": "stream",
     "text": [
      "True greater than False : True\n",
      "True less than False : False\n",
      "True greater than or equal to False : True\n",
      "True less than or equal to False : False\n"
     ]
    }
   ],
   "source": [
    "# Q. Comparison Operators on boolean values\n",
    "# Take two different boolean values.\n",
    "# Store them in two different variables.\n",
    "# Do below operations on them:-\n",
    "# Compare these two values with below operator:-\n",
    "# Greater than, '>'\n",
    "# less than, '<'\n",
    "# Greater than or equal to, '>='\n",
    "# Less than or equal to, '<='\n",
    "# Observe their output(return type should be boolean)\n",
    "\n",
    "a = True\n",
    "b = False\n",
    "print(a, 'greater than', b, ':', a>b)\n",
    "print(a, 'less than', b, ':', a<b)\n",
    "print(a, 'greater than or equal to', b, ':', a>=b)\n",
    "print(a, 'less than or equal to', b, ':', a<=b)"
   ]
  },
  {
   "cell_type": "code",
   "execution_count": 26,
   "metadata": {},
   "outputs": [
    {
     "name": "stdout",
     "output_type": "stream",
     "text": [
      "True equal to False : False\n",
      "True not equal to False : True\n"
     ]
    }
   ],
   "source": [
    "# Q. Equality Operator\n",
    "# Take two different boolean values.\n",
    "# Store them in two different variables.\n",
    "# Equate them using equality operators (==, !=)\n",
    "# Observe the output(return type should be boolean)\n",
    "\n",
    "a = True\n",
    "b = False\n",
    "print(a, 'equal to', b, ':', a==b)\n",
    "print(a, 'not equal to', b, ':', a!=b)"
   ]
  },
  {
   "cell_type": "code",
   "execution_count": 27,
   "metadata": {},
   "outputs": [
    {
     "name": "stdout",
     "output_type": "stream",
     "text": [
      "True\n",
      "False\n",
      "False\n",
      "False\n",
      "True\n",
      "True\n",
      "True\n",
      "False\n",
      "False\n",
      "True\n"
     ]
    }
   ],
   "source": [
    "# Q. Logical operators\n",
    "# Observe the output of below code\n",
    "# Cross check the output manually\n",
    "\n",
    "print ( True and True )\n",
    "print ( False and True )\n",
    "print ( True and False )\n",
    "print ( False and False )\n",
    "print ( True or True )\n",
    "print ( False or True )\n",
    "print ( True or False )\n",
    "print ( False or False )\n",
    "print ( not True )\n",
    "print ( not False )\n",
    "\n",
    "#Manual check\n",
    "# Truth Table\n",
    "# 1 AND 1 -> 1\n",
    "# 1 AND 0 -> 0\n",
    "# 0 AND 1 -> 0\n",
    "# 0 AND 0 -> 0\n",
    "# 1 OR 1 -> 1\n",
    "# 1 OR 0 -> 1\n",
    "# 0 OR 1 -> 1\n",
    "# 0 OR 0 -> 0\n",
    "# NOT 1 -> 0\n",
    "# NOT 0 -> 1"
   ]
  },
  {
   "cell_type": "code",
   "execution_count": 55,
   "metadata": {},
   "outputs": [
    {
     "name": "stdout",
     "output_type": "stream",
     "text": [
      "True\n",
      "True\n",
      "True\n",
      "-2\n",
      "4\n",
      "0\n",
      "0b1\n"
     ]
    }
   ],
   "source": [
    "# Q. Bitwise Operators\n",
    "# Do below operations on the values provided below:-\n",
    "# Bitwise and(&) --------------> True, True -------> Output is True\n",
    "# Bitwise or(|) --------------> True, False -------> Output is True\n",
    "# Bitwise(^) --------------> True, False -------> Output is True\n",
    "# Bitwise negation(~) ---------> True -------> Output is -2\n",
    "# Bitwise left shift ---------> True,2 -------> Output is 4\n",
    "# Bitwise right shift ---------> True,2 -------> Output is 0\n",
    "# Cross check the output manually\n",
    "\n",
    "print(True & True)\n",
    "print(True | False)\n",
    "print(True^False)\n",
    "print(~True)\n",
    "print(True<<2)\n",
    "print(True>>2)\n",
    "\n",
    "#Manual check\n",
    "# bin(True) #0b1\n",
    "# bin(False) #0b0\n",
    "# 0b1 & 0b1: True\n",
    "# 0b1 | 0b0 : True\n",
    "# 0b1 ^ 0b0 :True\n",
    "# ~True: -(1+1) : -2\n",
    "# 0b1 << 2 : 0b100 = 4\n",
    "# 0b1 >> 2 : 0b0 = 0"
   ]
  },
  {
   "cell_type": "code",
   "execution_count": 56,
   "metadata": {},
   "outputs": [
    {
     "name": "stdout",
     "output_type": "stream",
     "text": [
      "True\n",
      "False\n",
      "True\n",
      "False\n"
     ]
    }
   ],
   "source": [
    "# Q. What is the output of expression inside the print statement. Cross\n",
    "# check before running the program.\n",
    "# a = True\n",
    "# b = True\n",
    "# print (a is b) #True or False? #\n",
    "# print (a is not b) #True or False?\n",
    "# a = False\n",
    "# b = False\n",
    "# print (a is b) #True or False?\n",
    "# print (a is not b) #True or False?\n",
    "\n",
    "a = True\n",
    "b = True\n",
    "print(a is b) #True\n",
    "print(a is not b) #False\n",
    "a = False\n",
    "b = False\n",
    "print(a is b) #True\n",
    "print(a is not b) #False"
   ]
  },
  {
   "cell_type": "code",
   "execution_count": 57,
   "metadata": {},
   "outputs": [
    {
     "name": "stdout",
     "output_type": "stream",
     "text": [
      "True\n",
      "True\n",
      "True\n",
      "True\n",
      "True\n"
     ]
    }
   ],
   "source": [
    "# Q. Membership operation\n",
    "# in, not in are two membership operators and it returns boolean value\n",
    "# print ( True in [ 10 , 10.20 , 10 + 20j , 'Python' , True ])\n",
    "# print ( False in ( 10 , 10.20 , 10 + 20j , 'Python' , False ))\n",
    "# print ( True in { 1 , 2 , 3 , True })\n",
    "# print ( True in { True : 100 , False : 200 , True : 300 })\n",
    "# print ( False in { True : 100 , False : 200 , True : 300 })\n",
    "\n",
    "print ( True in [ 10 , 10.20 , 10 + 20j , 'Python' , True ]) #True\n",
    "print ( False in ( 10 , 10.20 , 10 + 20j , 'Python' , False )) #True\n",
    "print ( True in { 1 , 2 , 3 , True }) #True\n",
    "print ( True in { True : 100 , False : 200 , True : 300 }) #True\n",
    "print ( False in { True : 100 , False : 200 , True : 300 }) #True\n"
   ]
  }
 ],
 "metadata": {
  "kernelspec": {
   "display_name": "Python 3",
   "language": "python",
   "name": "python3"
  },
  "language_info": {
   "codemirror_mode": {
    "name": "ipython",
    "version": 3
   },
   "file_extension": ".py",
   "mimetype": "text/x-python",
   "name": "python",
   "nbconvert_exporter": "python",
   "pygments_lexer": "ipython3",
   "version": "3.6.5"
  }
 },
 "nbformat": 4,
 "nbformat_minor": 2
}
