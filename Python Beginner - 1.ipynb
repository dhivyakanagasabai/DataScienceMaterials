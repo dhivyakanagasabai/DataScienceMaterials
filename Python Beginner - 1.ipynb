{
 "cells": [
  {
   "cell_type": "code",
   "execution_count": null,
   "metadata": {},
   "outputs": [],
   "source": [
    "### Armstrong number or not\n",
    "\n",
    "N = int(input(\"Enter the range: \"))\n",
    "i = 1\n",
    "\n",
    "\n",
    "while i<=N:\n",
    "    \n",
    "    j = my_num = i\n",
    "    sum_cube = 0\n",
    "    \n",
    "    while j>0: \n",
    "        digit_cube = (j%10)**3          \n",
    "        sum_cube += digit_cube \n",
    "        j = j//10                           \n",
    "        \n",
    "    if my_num == sum_cube:\n",
    "        print(my_num, \" is an armstrong number\")\n",
    "    i+=1\n",
    "    \n",
    "        "
   ]
  },
  {
   "cell_type": "code",
   "execution_count": null,
   "metadata": {},
   "outputs": [],
   "source": [
    "### Binary to Decimal conversion\n",
    "\n",
    "binary = int(input(\"Enter a binary number: \"))\n",
    "pos = 0\n",
    "decimal = 0\n",
    "\n",
    "while binary>0:\n",
    "    \n",
    "    last_digit = binary%10\n",
    "    decimal += last_digit*(2**pos)\n",
    "    binary//=10\n",
    "    \n",
    "    pos+=1\n",
    "    \n",
    "print(\"The decimal number is \",decimal)"
   ]
  },
  {
   "cell_type": "code",
   "execution_count": 1,
   "metadata": {},
   "outputs": [
    {
     "name": "stdout",
     "output_type": "stream",
     "text": [
      "Enter the number: 5\n",
      "5\n",
      "4\n",
      "3\n",
      "2\n",
      "1\n"
     ]
    }
   ],
   "source": [
    "### Reverse print the number in loop without using step\n",
    "\n",
    "n = int(input(\"Enter the number: \"))\n",
    "for i in range(0,n):\n",
    "    print(n-i)"
   ]
  },
  {
   "cell_type": "code",
   "execution_count": null,
   "metadata": {},
   "outputs": [],
   "source": [
    "### Print only odd numbers\n",
    "\n",
    "N = int(input(\"Enter an integer: \"))\n",
    "for i in range(1,N+1, 2):\n",
    "    print(i, end=\" \")"
   ]
  },
  {
   "cell_type": "code",
   "execution_count": null,
   "metadata": {},
   "outputs": [],
   "source": [
    "### Find Factorials\n",
    "\n",
    "N = int(input(\"Enter the number: \"))\n",
    "fact = 1\n",
    "for i in range(1,N+1):\n",
    "    fact*=i\n",
    "print(fact)"
   ]
  },
  {
   "cell_type": "code",
   "execution_count": 11,
   "metadata": {},
   "outputs": [
    {
     "name": "stdout",
     "output_type": "stream",
     "text": [
      "Enter the upper range: 4\n",
      "Enter 1 for odd sequence or 0 for even sequence: 1\n",
      "2\n",
      "[1, 3]\n"
     ]
    }
   ],
   "source": [
    "### Print Even or Odd numbers based on user input along with number of odd/even number in the given range\n",
    "\n",
    "N = int(input(\"Enter the upper range: \"))\n",
    "isOdd = int(input(\"Enter 1 for odd sequence or 0 for even sequence: \"))\n",
    "if isOdd:\n",
    "    print((N+1)//2)\n",
    "    print(list(range(1,N+1,2)))\n",
    "else:\n",
    "    print((N//2)+1)\n",
    "    print(list(range(0,N+1,2)))    "
   ]
  },
  {
   "cell_type": "code",
   "execution_count": 1,
   "metadata": {},
   "outputs": [
    {
     "name": "stdout",
     "output_type": "stream",
     "text": [
      "-6 -7 -8 -9 "
     ]
    }
   ],
   "source": [
    "### Negative range and step\n",
    "\n",
    "for i in range(-6, -10, -1):\n",
    "     print(i, end =\" \")"
   ]
  },
  {
   "cell_type": "code",
   "execution_count": 10,
   "metadata": {},
   "outputs": [
    {
     "name": "stdout",
     "output_type": "stream",
     "text": [
      "Enter the dividend: 23\n",
      "Enter the divisor: 2\n",
      "Calculated - Quotient: 11, Remainder: 1\n",
      "Actuals - Quotient: 11, Remainder: 1\n",
      "-----> Calculated and Actuals are same <-----\n"
     ]
    }
   ],
   "source": [
    "### Print Quotient and Remainder without using division and modulo operator\n",
    "\n",
    "x=int(input(\"Enter the dividend: \"))\n",
    "y=int(input(\"Enter the divisor: \"))\n",
    "\n",
    "Q = x//y\n",
    "R = x%y\n",
    "\n",
    "q=0\n",
    "r=0\n",
    "\n",
    "while x>=y:\n",
    "    x-=y\n",
    "    q+=1   \n",
    "\n",
    "\n",
    "print(\"Calculated - Quotient: {}, Remainder: {}\".format(q, x))\n",
    "print(\"Actuals - Quotient: {}, Remainder: {}\".format(Q, R))\n",
    "print(\"-----> Calculated and Actuals are same <-----\" if Q==q and R==x else \"Different\")"
   ]
  },
  {
   "cell_type": "code",
   "execution_count": 3,
   "metadata": {},
   "outputs": [
    {
     "name": "stdout",
     "output_type": "stream",
     "text": [
      "square of 1 is  1\n",
      "square of 3 is  9\n",
      "square of 6 is  36\n",
      "square of 10 is  100\n",
      "square of 15 is  225\n",
      "square of 21 is  441\n"
     ]
    }
   ],
   "source": [
    "### Print square of below geometric progression series \n",
    "#1 3 6 10 15 21\n",
    "\n",
    "i = 1\n",
    "k = 2\n",
    "while i<=21:\n",
    "    print(f'square of {i} is ', i**2)\n",
    "    i=i+k\n",
    "    k+=1\n",
    "    #print(f'i is {i} and k is {k}')"
   ]
  },
  {
   "cell_type": "code",
   "execution_count": null,
   "metadata": {},
   "outputs": [],
   "source": [
    "### Print square of below geometric progression series (Another method)\n",
    "#1 3 6 10 15 21\n",
    "\n",
    "i = 1\n",
    "k = 0\n",
    "while i<=21:\n",
    "    my_number = i+k\n",
    "    print(my_number**2)\n",
    "    k+=1\n",
    "    i+=k"
   ]
  },
  {
   "cell_type": "code",
   "execution_count": 12,
   "metadata": {},
   "outputs": [
    {
     "name": "stdout",
     "output_type": "stream",
     "text": [
      "Exec "
     ]
    }
   ],
   "source": [
    "### loop with else\n",
    "\n",
    "n=8\n",
    "while n>=0:\n",
    "    n -= 2\n",
    "    if n%2==0:\n",
    "        continue\n",
    "    print(n, end=\" \")\n",
    "else:\n",
    "    print(\"Exec\", end=\" \")"
   ]
  },
  {
   "cell_type": "code",
   "execution_count": 13,
   "metadata": {},
   "outputs": [
    {
     "name": "stdout",
     "output_type": "stream",
     "text": [
      "15\n",
      "2 3 5 7 11 13 "
     ]
    }
   ],
   "source": [
    "### Print prime numbers in the given range\n",
    "\n",
    "N = int(input())\n",
    "\n",
    "for j in range(2,N):\n",
    "    isPrime = True\n",
    "    for i in range(2,j):\n",
    "        if j%i==0:\n",
    "            isPrime = False\n",
    "    if isPrime:\n",
    "        print(j, end = \" \")"
   ]
  },
  {
   "cell_type": "code",
   "execution_count": 30,
   "metadata": {},
   "outputs": [
    {
     "name": "stdout",
     "output_type": "stream",
     "text": [
      "19870\n",
      "one nine eight seven zero "
     ]
    }
   ],
   "source": [
    "### Print the number in words\n",
    "\n",
    "A = input()\n",
    "num_in_words = {0:'zero', 1:'one', 2:'two', 3:'three', 4:'four', 5:'five', 6:'six', 7:'seven', 8:'eight', 9:'nine'}\n",
    "\n",
    "for i in A:\n",
    "    print(num_in_words[int(i)], end= ' ')"
   ]
  },
  {
   "cell_type": "code",
   "execution_count": 16,
   "metadata": {},
   "outputs": [
    {
     "name": "stdout",
     "output_type": "stream",
     "text": [
      "1\n",
      "28\n",
      "1\n",
      "2\n",
      "4\n",
      "7\n",
      "14\n",
      "YES\n"
     ]
    }
   ],
   "source": [
    "### Check whether the number id perfect number or not \n",
    "## A perfect number is a positive integer which is equal to the sum of its proper positive divisors\n",
    " \n",
    "N = int(input())\n",
    "\n",
    "for i in range(N):\n",
    "   \n",
    "    number = int(input())\n",
    "    divisors_sum = 0\n",
    "    \n",
    "    divisor = 1\n",
    "    while divisor<number:\n",
    "        \n",
    "        if number%divisor==0:\n",
    "            divisors_sum+=divisor\n",
    "            #print(divisor)\n",
    "        divisor+=1\n",
    "        \n",
    "    print(\"YES\" if divisors_sum == number else \"NO\")\n",
    "    #print(divisors_sum)"
   ]
  },
  {
   "cell_type": "code",
   "execution_count": 17,
   "metadata": {},
   "outputs": [
    {
     "name": "stdout",
     "output_type": "stream",
     "text": [
      "100\n",
      "28\n",
      "6\n"
     ]
    }
   ],
   "source": [
    "### Print all the perfect numbers in given range in descending order\n",
    "\n",
    "number = int(input())\n",
    "\n",
    "while number>0:    \n",
    "    divisors_sum = 0\n",
    "    for divisor in range(1,number):\n",
    "        if number%divisor==0:\n",
    "            divisors_sum+=divisor\n",
    "    \n",
    "    if divisors_sum == number:\n",
    "        print(number)\n",
    "#     else:\n",
    "#         print(number, \" is no perfect number\")\n",
    "        \n",
    "#     print(\"sum is \", divisors_sum)\n",
    "#     print(\"number is \", number)\n",
    "    number-=1"
   ]
  },
  {
   "cell_type": "code",
   "execution_count": 18,
   "metadata": {},
   "outputs": [
    {
     "name": "stdout",
     "output_type": "stream",
     "text": [
      "100\n",
      "6\n",
      "28\n"
     ]
    }
   ],
   "source": [
    "### Print all the perfect numbers in given range in ascending order\n",
    "\n",
    "upper_range = int(input())\n",
    "\n",
    "for number in range(1,upper_range):\n",
    "    divisors_sum = 0\n",
    "    divisor = 1\n",
    "    while divisor<number:\n",
    "        if number%divisor==0:\n",
    "            divisors_sum+=divisor\n",
    "        divisor+=1\n",
    "    if divisors_sum == number:\n",
    "        print(number)"
   ]
  },
  {
   "cell_type": "code",
   "execution_count": null,
   "metadata": {},
   "outputs": [],
   "source": [
    "### Find the volume of circle for given radius\n",
    "\n",
    "import math\n",
    "r = int(input())\n",
    "pi = math.pi\n",
    "volume = (4*pi*(r**3))/3\n",
    "print(math.ceil(volume))"
   ]
  },
  {
   "cell_type": "code",
   "execution_count": 19,
   "metadata": {},
   "outputs": [
    {
     "name": "stdout",
     "output_type": "stream",
     "text": [
      "0\n",
      "2\n",
      "6\n",
      "12\n",
      "20\n",
      "30\n",
      "42\n"
     ]
    }
   ],
   "source": [
    "### Iterators\n",
    "\n",
    "i = iter(range(7))\n",
    "print(next(i) * 1)\n",
    "print(next(i) * 2)\n",
    "print(next(i) * 3)\n",
    "print(next(i) * 4)\n",
    "print(next(i) * 5)\n",
    "print(next(i) * 6)\n",
    "print(next(i) * 7)\n",
    "# print(next(i) * 3)\n",
    "# print(next(i) * 5)"
   ]
  },
  {
   "cell_type": "code",
   "execution_count": 20,
   "metadata": {},
   "outputs": [
    {
     "name": "stdout",
     "output_type": "stream",
     "text": [
      "6\n"
     ]
    }
   ],
   "source": [
    "### Iterators with step\n",
    "i = iter(range(1, 7, 5))\n",
    "res = next(i)\n",
    "res = next(i)\n",
    "print(res)"
   ]
  },
  {
   "cell_type": "code",
   "execution_count": 28,
   "metadata": {},
   "outputs": [
    {
     "name": "stdout",
     "output_type": "stream",
     "text": [
      "12345678900987654321\n",
      "Yes, it is a palindrome number!\n"
     ]
    }
   ],
   "source": [
    "### Find whether the integer is palindrome or not\n",
    "\n",
    "A = int(input())\n",
    "my_number = A\n",
    "reverse_number = 0\n",
    "while my_number>0:\n",
    "    remainder = my_number%10\n",
    "    reverse_number = (reverse_number*10)+remainder\n",
    "    my_number = my_number//10\n",
    "# print(A)\n",
    "# print(reverse_number)\n",
    "print(\"Yes, it is a palindrome number!\" if A == reverse_number else \"No, it is not a palindrome number!!\")"
   ]
  },
  {
   "cell_type": "code",
   "execution_count": null,
   "metadata": {},
   "outputs": [],
   "source": []
  }
 ],
 "metadata": {
  "kernelspec": {
   "display_name": "Python 3",
   "language": "python",
   "name": "python3"
  },
  "language_info": {
   "codemirror_mode": {
    "name": "ipython",
    "version": 3
   },
   "file_extension": ".py",
   "mimetype": "text/x-python",
   "name": "python",
   "nbconvert_exporter": "python",
   "pygments_lexer": "ipython3",
   "version": "3.8.5"
  }
 },
 "nbformat": 4,
 "nbformat_minor": 2
}
