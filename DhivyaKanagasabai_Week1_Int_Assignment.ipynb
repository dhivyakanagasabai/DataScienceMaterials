{
 "cells": [
  {
   "cell_type": "markdown",
   "metadata": {},
   "source": [
    "## INT ASSIGNMENT"
   ]
  },
  {
   "cell_type": "code",
   "execution_count": 2,
   "metadata": {},
   "outputs": [
    {
     "name": "stdout",
     "output_type": "stream",
     "text": [
      "True <class 'str'> 2121750078608\n"
     ]
    }
   ],
   "source": [
    "# Q. Declare an int value and store it in a variable.\n",
    "# Check the type and print the id of the same.\n",
    "\n",
    "value = 5\n",
    "print(value, type(value), id(value))"
   ]
  },
  {
   "cell_type": "code",
   "execution_count": 11,
   "metadata": {},
   "outputs": [
    {
     "name": "stdout",
     "output_type": "stream",
     "text": [
      "2 1360751712\n",
      "2 1360751712\n"
     ]
    }
   ],
   "source": [
    "# Q. Take one int value between 0 - 256.\n",
    "# Assign it to two different variables.\n",
    "# Check the id of both the variables. It should come the same. Check why?\n",
    "\n",
    "num1 = 2\n",
    "num2 = 2\n",
    "print(num1, id(num1))\n",
    "print(num2, id(num2))\n",
    "\n",
    "#A. object reusuability. values between 0 - 256 will refer to same memory reference."
   ]
  },
  {
   "cell_type": "code",
   "execution_count": 14,
   "metadata": {},
   "outputs": [
    {
     "name": "stdout",
     "output_type": "stream",
     "text": [
      "-24 1786740965584\n",
      "-24 1786740967248\n"
     ]
    }
   ],
   "source": [
    "# Q. Take one int value either less than -5 or greater than 256.\n",
    "# Assign it to two different variables.\n",
    "# Check the id of both the variables. It should come different.Check why?\n",
    "\n",
    "num1 = -24\n",
    "num2 = -24\n",
    "print(num1, id(num1))\n",
    "print(num2, id(num2))"
   ]
  },
  {
   "cell_type": "code",
   "execution_count": 17,
   "metadata": {},
   "outputs": [
    {
     "name": "stdout",
     "output_type": "stream",
     "text": [
      "Sum:  57\n",
      "Difference:  53\n",
      "Product:  110\n",
      "Division:  27.5\n",
      "Remainder:  1\n",
      "Quotient:  27\n",
      "Power:  3025\n"
     ]
    }
   ],
   "source": [
    "# Q. Arithmetic Operations on integers\n",
    "# Take two different integer values.\n",
    "# Store them in two different variables.\n",
    "# Do below operations on them:-\n",
    "# Find sum of both numbers\n",
    "# Find difference between them\n",
    "# Find the product of both numbers.\n",
    "# Find value after dividing first num with second number\n",
    "# Find the remainder after dividing first number with second number\n",
    "# Find the quotient after dividing first number with second number\n",
    "# Find the result of the first num to the power of the second number.\n",
    "\n",
    "n1 = 55\n",
    "n2 = 2\n",
    "print('Sum: ',n1+n2)\n",
    "print('Difference: ',n1-n2)\n",
    "print('Product: ',n1*n2)\n",
    "print('Division: ',n1/n2)\n",
    "print('Remainder: ',n1%n2)\n",
    "print('Quotient: ',n1//n2)\n",
    "print('Power: ',n1**n2)\n",
    "\n"
   ]
  },
  {
   "cell_type": "code",
   "execution_count": 21,
   "metadata": {},
   "outputs": [
    {
     "name": "stdout",
     "output_type": "stream",
     "text": [
      "8 greater than 60 : False\n",
      "8 less than 60 : True\n",
      "8 greater than or equal to 60 : False\n",
      "8 less than or equal to 60 : True\n"
     ]
    }
   ],
   "source": [
    "# Q. Comparison Operators on integers\n",
    "# Take two different integer values.\n",
    "# Store them in two different variables.\n",
    "# Do below operations on them:-\n",
    "# Compare se two numbers with below operator:-\n",
    "# Greater than, '>'\n",
    "# Smaller than, '<'\n",
    "# Greater than or equal to, '>='\n",
    "# Less than or equal to, '<='\n",
    "# Observe their output(return type should be boolean)\n",
    "\n",
    "a = 8\n",
    "b = 60\n",
    "print(a, 'greater than', b, ':', a>b)\n",
    "print(a, 'less than', b, ':', a<b)\n",
    "print(a, 'greater than or equal to', b, ':', a>=b)\n",
    "print(a, 'less than or equal to', b, ':', a<=b)"
   ]
  },
  {
   "cell_type": "code",
   "execution_count": 23,
   "metadata": {},
   "outputs": [
    {
     "name": "stdout",
     "output_type": "stream",
     "text": [
      "3 equal to 42 : False\n",
      "3 not equal to 42 : True\n"
     ]
    }
   ],
   "source": [
    "# Q. Equality Operator\n",
    "# Take two different integer values.\n",
    "# Store them in two different variables.\n",
    "# Equate them using equality operators (==, !=)\n",
    "# Observe the output(return type should be boolean)\n",
    "\n",
    "a = 3\n",
    "b = 42\n",
    "print(a, 'equal to', b, ':', a==b)\n",
    "print(a, 'not equal to', b, ':', a!=b)"
   ]
  },
  {
   "cell_type": "code",
   "execution_count": 24,
   "metadata": {},
   "outputs": [
    {
     "name": "stdout",
     "output_type": "stream",
     "text": [
      "20\n",
      "0\n",
      "0\n",
      "0\n",
      "10\n",
      "20\n",
      "20\n",
      "0\n",
      "False\n",
      "True\n"
     ]
    }
   ],
   "source": [
    "# Q. Logical operators\n",
    "# Observe the output of below code\n",
    "# Cross check the output manually\n",
    "\n",
    "print ( 10 and 20 ) #20\n",
    "print ( 0 and 20 ) #0\n",
    "print ( 20 and 0 ) #0\n",
    "print ( 0 and 0 ) #0\n",
    "print ( 10 or 20 ) #10\n",
    "print ( 0 or 20 ) #20\n",
    "print ( 20 or 0 ) #20\n",
    "print ( 0 or 0 ) #0\n",
    "print ( not 10 ) #False\n",
    "print ( not 0 ) #True\n"
   ]
  },
  {
   "cell_type": "code",
   "execution_count": 38,
   "metadata": {},
   "outputs": [
    {
     "name": "stdout",
     "output_type": "stream",
     "text": [
      "0\n",
      "30\n",
      "30\n",
      "-11\n",
      "40\n",
      "2\n"
     ]
    }
   ],
   "source": [
    "# Q. Bitwise Operators\n",
    "# Do below operations on the values provided below:-\n",
    "# Bitwise and(&) ------------------> 10, 20-------> Output is 0\n",
    "# Bitwise or(|) -------------------> 10, 20-------> Output is 30\n",
    "# Bitwise(^) ----------------------> 10, 20-------> Output is 30\n",
    "# Bitwise negation(~) -------------> 10-------> Output is -11\n",
    "# Bitwise left shift --------------> 10,2-------> Output is 40\n",
    "# Bitwise right shift -------------> 10,2-------> Output is 2\n",
    "# Cross check the output manually\n",
    "\n",
    "print(10 & 20)\n",
    "print(10 | 20)\n",
    "print(10^20)\n",
    "print(~10)\n",
    "print(10<<2)\n",
    "print(10>>2)\n",
    "\n",
    "#Manual check\n",
    "# bin(10) #0b1010\n",
    "# bin(20) #0b10100\n",
    "# 0b01010 & 0b10100 : 0b00000\n",
    "# 0b01010 | 0b10100 : 0b11110 = 30\n",
    "# 0b01010 ^ 0b10100 : 0b11110 = 30 \n",
    "# ~10: -(10+1) : -11\n",
    "# 0b1010 << 2 : 0b101000 = 40\n",
    "# 0b1010 >> 2 : 0b10 = 2"
   ]
  },
  {
   "cell_type": "code",
   "execution_count": 40,
   "metadata": {},
   "outputs": [
    {
     "name": "stdout",
     "output_type": "stream",
     "text": [
      "True\n",
      "False\n",
      "False\n",
      "True\n"
     ]
    }
   ],
   "source": [
    "# Q. What is the output of expression inside print statement. Cross check\n",
    "# before running the program.\n",
    "# a = 10\n",
    "# b = 10\n",
    "# print(a is b) #True or False?\n",
    "# print(a is not b) #True or False?\n",
    "# a = 1000\n",
    "# b = 1000\n",
    "# print(a is b) #True or False?\n",
    "\n",
    "a = 10\n",
    "b = 10\n",
    "print(a is b) #True\n",
    "print(a is not b) #False\n",
    "a = 1000\n",
    "b = 1000\n",
    "print(a is b) #False\n",
    "print(a is not b) #True"
   ]
  },
  {
   "cell_type": "code",
   "execution_count": 42,
   "metadata": {},
   "outputs": [
    {
     "name": "stdout",
     "output_type": "stream",
     "text": [
      "20\n"
     ]
    }
   ],
   "source": [
    "# Q. What is the output of expression inside print statement. Cross check\n",
    "# before running the program.\n",
    "# print ( 10 +( 10 * 32 )// 2 ** 5 & 20 +(~( -10 ))<< 2 )\n",
    "\n",
    "print ( 10 +( 10 * 32 )// 2 ** 5 & 20 +(~( -10 ))<< 2 )"
   ]
  },
  {
   "cell_type": "code",
   "execution_count": 44,
   "metadata": {},
   "outputs": [
    {
     "name": "stdout",
     "output_type": "stream",
     "text": [
      "True\n",
      "True\n",
      "True\n",
      "True\n",
      "True\n",
      "True\n"
     ]
    }
   ],
   "source": [
    "# Q. Membership operation\n",
    "# in, not in are two membership operators and it returns boolean value\n",
    "# print ( '2' in 'Python2.7.8' )\n",
    "# print ( 10 in [ 10 , 10.20 , 10 + 20j , 'Python' ])\n",
    "# print ( 10 in ( 10 , 10.20 , 10 + 20j , 'Python' ))\n",
    "# print ( 2 in { 1 , 2 , 3 })\n",
    "# print ( 3 in { 1 : 100 , 2 : 200 , 3 : 300 })\n",
    "# print ( 10 in range ( 20 ))\n",
    "\n",
    "print ( '2' in 'Python2.7.8' ) #True\n",
    "print ( 10 in [ 10 , 10.20 , 10 + 20j , 'Python' ]) #True\n",
    "print ( 10 in ( 10 , 10.20 , 10 + 20j , 'Python' )) #True\n",
    "print ( 2 in { 1 , 2 , 3 }) #True\n",
    "print ( 3 in { 1 : 100 , 2 : 200 , 3 : 300 }) #True\n",
    "print ( 10 in range ( 20 )) #True"
   ]
  },
  {
   "cell_type": "code",
   "execution_count": 47,
   "metadata": {},
   "outputs": [
    {
     "name": "stdout",
     "output_type": "stream",
     "text": [
      "Binary: 0b10011010010100 Octal: 0o23224 Hexadecimal: 0x2694\n"
     ]
    }
   ],
   "source": [
    "# Q. An integer can be represented in binary, octal or hexadecimal form.\n",
    "# Declare one binary, one octal and one hexadecimal value and store them\n",
    "# in three different variables.\n",
    "# Convert 9876 to its binary, octal and hexadecimal equivalent and print\n",
    "# their corresponding value.\n",
    "\n",
    "x = 0b1010\n",
    "y = 0o1010\n",
    "z = 0x1010\n",
    "#print(\"binary:\",x,\"octal:\",y,\"hexa:\",z)\n",
    "n = 9876\n",
    "print(\"Binary:\",bin(n),\"Octal:\",oct(n),\"Hexadecimal:\",hex(n))"
   ]
  },
  {
   "cell_type": "code",
   "execution_count": 49,
   "metadata": {},
   "outputs": [
    {
     "name": "stdout",
     "output_type": "stream",
     "text": [
      "80\n",
      "3870\n",
      "64222\n",
      "0b1010000\n",
      "0o7436\n",
      "0xfade\n",
      "0b1010000\n",
      "0b1111101011011110\n",
      "0o175336\n",
      "0o7436\n",
      "0x50\n",
      "0xfade\n"
     ]
    }
   ],
   "source": [
    "# Q. What will be the output of following:-\n",
    "a = 0b1010000\n",
    "print(a)\n",
    "b = 0o7436\n",
    "print(b)\n",
    "c = 0xfade\n",
    "print(c)\n",
    "print(bin(80))\n",
    "print(oct(3870))\n",
    "print(hex(64222))\n",
    "print(bin(0b1010000))\n",
    "print(bin(0xfade))\n",
    "print(oct(0xfade))\n",
    "print(oct(0o7436))\n",
    "print(hex(0b1010000))\n",
    "print(hex(0xfade))"
   ]
  }
 ],
 "metadata": {
  "kernelspec": {
   "display_name": "Python 3",
   "language": "python",
   "name": "python3"
  },
  "language_info": {
   "codemirror_mode": {
    "name": "ipython",
    "version": 3
   },
   "file_extension": ".py",
   "mimetype": "text/x-python",
   "name": "python",
   "nbconvert_exporter": "python",
   "pygments_lexer": "ipython3",
   "version": "3.6.5"
  }
 },
 "nbformat": 4,
 "nbformat_minor": 2
}
