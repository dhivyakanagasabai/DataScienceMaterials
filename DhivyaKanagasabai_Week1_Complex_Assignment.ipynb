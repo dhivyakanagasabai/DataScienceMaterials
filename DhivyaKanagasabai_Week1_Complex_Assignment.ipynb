{
 "cells": [
  {
   "cell_type": "markdown",
   "metadata": {},
   "source": [
    "## COMPLEX ASSIGNMENT"
   ]
  },
  {
   "cell_type": "code",
   "execution_count": 2,
   "metadata": {},
   "outputs": [
    {
     "name": "stdout",
     "output_type": "stream",
     "text": [
      "(46+23j) <class 'complex'> 1986238693872\n"
     ]
    }
   ],
   "source": [
    "# Q. Declare a complex number and store it in a variable.\n",
    "# Check the type and print the id of the same.\n",
    "\n",
    "value = 46 + 23j\n",
    "print(value, type(value), id(value))"
   ]
  },
  {
   "cell_type": "code",
   "execution_count": 4,
   "metadata": {},
   "outputs": [
    {
     "name": "stdout",
     "output_type": "stream",
     "text": [
      "Sum:  (6+12j)\n",
      "Difference:  (4-8j)\n",
      "Product:  (-15+52j)\n",
      "Division:  (0.24752475247524752-0.4752475247524752j)\n",
      "Power:  (-0.007399642712305579-0.11963317552503236j)\n"
     ]
    }
   ],
   "source": [
    "# Q. Arithmetic Operations on complex number\n",
    "# Take two different complex numbers.\n",
    "# Store them in two different variables.\n",
    "# Do below operations on them:-\n",
    "# Find sum of both numbers\n",
    "# Find difference between them\n",
    "# Find the product of both numbers.\n",
    "# Find value after dividing first num with second number\n",
    "# Find the result of the first num to the power of the second number.\n",
    "\n",
    "n1 = 5 + 2j\n",
    "n2 = 1 + 10j\n",
    "print('Sum: ',n1+n2)\n",
    "print('Difference: ',n1-n2)\n",
    "print('Product: ',n1*n2)\n",
    "print('Division: ',n1/n2)\n",
    "print('Power: ',n1**n2)\n"
   ]
  },
  {
   "cell_type": "code",
   "execution_count": 6,
   "metadata": {},
   "outputs": [
    {
     "name": "stdout",
     "output_type": "stream",
     "text": [
      "(6+9j) equal to (7+3j) : False\n",
      "(6+9j) not equal to (7+3j) : True\n"
     ]
    }
   ],
   "source": [
    "# Q. Equality Operator\n",
    "# Take two different complex numbers.\n",
    "# Store them in two different variables.\n",
    "# Equate them using equality operators (==, !=)\n",
    "# Observe the output(return type should be boolean)\n",
    "\n",
    "a = 6 + 9j\n",
    "b = 7 + 3j\n",
    "print(a, 'equal to', b, ':', a==b)\n",
    "print(a, 'not equal to', b, ':', a!=b)"
   ]
  },
  {
   "cell_type": "code",
   "execution_count": 7,
   "metadata": {},
   "outputs": [
    {
     "name": "stdout",
     "output_type": "stream",
     "text": [
      "(20+30j)\n",
      "0j\n",
      "0j\n",
      "0j\n",
      "(10+20j)\n",
      "(20+30j)\n",
      "(20+30j)\n",
      "0j\n",
      "False\n",
      "True\n"
     ]
    }
   ],
   "source": [
    "# Q. Logical operators\n",
    "# Observe the output of below code\n",
    "# Cross check the output manually\n",
    "\n",
    "print ( 10+20j and 20+30j ) #20+30j\n",
    "print ( 0+0j and 20+30j ) #0+0j\n",
    "print ( 20+30j and 0+0j ) #0+0j\n",
    "print ( 0+0j and 0+0j ) #0+0j\n",
    "print ( 10+20j or 20+30j ) #10+20j\n",
    "print ( 0+0j or 20+30j ) #20+30j\n",
    "print ( 20+30j or 0+0j ) #20+30j\n",
    "print ( 0+0j or 0+0j ) #0+0j\n",
    "print ( not 10+20j ) #False\n",
    "print ( not 0+0j ) #True\n"
   ]
  },
  {
   "cell_type": "code",
   "execution_count": 8,
   "metadata": {},
   "outputs": [
    {
     "name": "stdout",
     "output_type": "stream",
     "text": [
      "False\n",
      "True\n"
     ]
    }
   ],
   "source": [
    "# Q. What is the output of the expression inside the print statement.\n",
    "# Cross check before running the program.\n",
    "# a = 10 + 20j\n",
    "# b = 10 + 20j\n",
    "# print (a is b) #False #True or False?\n",
    "# print (a is not b) #True #True or False?\n",
    "\n",
    "a = 10+20j\n",
    "b = 10+20j\n",
    "print(a is b) #False\n",
    "print(a is not b) #True"
   ]
  },
  {
   "cell_type": "code",
   "execution_count": 40,
   "metadata": {},
   "outputs": [
    {
     "name": "stdout",
     "output_type": "stream",
     "text": [
      "True\n",
      "False\n",
      "False\n",
      "True\n"
     ]
    }
   ],
   "source": [
    "# Q. Bitwise operation is not applicable between instances of float.\n",
    "# Why the Id of float values are different when the same value is\n",
    "# assigned to two different variables\n",
    "# ex: a = 10.5 b=10.5. but id will be same if I assign the variable\n",
    "# having float i.e. a=c then both a and c's Id are same\n",
    "# Object reusability concept is not applicable on float values.\n",
    "\n",
    "#A. Float value doesn't have object reusability in Python"
   ]
  },
  {
   "cell_type": "code",
   "execution_count": 9,
   "metadata": {},
   "outputs": [
    {
     "name": "stdout",
     "output_type": "stream",
     "text": [
      "True\n",
      "True\n",
      "True\n",
      "True\n",
      "True\n",
      "True\n"
     ]
    }
   ],
   "source": [
    "# Q. Membership operation\n",
    "# in, not in are two membership operators and it returns boolean value\n",
    "print ( '2.7' in 'Python2.7.8' ) #True\n",
    "print ( 10 + 20j in [ 10 , 10.20 , 10 + 20j , 'Python' ]) #True\n",
    "print ( 10 + 20j in ( 10 , 10.20 , 10 + 20j , 'Python' )) #True\n",
    "print ( 30 + 40j in { 1 , 20.30 , 30 + 40j }) #True\n",
    "print ( 30 + 40j in { 1 : 100 , 2.3 : 200 , 30 + 40j : 300 }) #True\n",
    "print ( 10 in range ( 20 )) #True"
   ]
  }
 ],
 "metadata": {
  "kernelspec": {
   "display_name": "Python 3",
   "language": "python",
   "name": "python3"
  },
  "language_info": {
   "codemirror_mode": {
    "name": "ipython",
    "version": 3
   },
   "file_extension": ".py",
   "mimetype": "text/x-python",
   "name": "python",
   "nbconvert_exporter": "python",
   "pygments_lexer": "ipython3",
   "version": "3.6.5"
  }
 },
 "nbformat": 4,
 "nbformat_minor": 2
}
