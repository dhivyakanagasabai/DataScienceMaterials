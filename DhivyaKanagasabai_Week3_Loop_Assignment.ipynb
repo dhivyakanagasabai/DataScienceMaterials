{
 "cells": [
  {
   "cell_type": "markdown",
   "metadata": {},
   "source": [
    "## Conditional Statements Exercise"
   ]
  },
  {
   "cell_type": "code",
   "execution_count": 43,
   "metadata": {},
   "outputs": [
    {
     "name": "stdout",
     "output_type": "stream",
     "text": [
      "Enter a number in the range of 0 to 9: 0\n",
      "zero\n"
     ]
    }
   ],
   "source": [
    "###### Q. W. A P. which takes one number from 0 to 9 from the user and prints\n",
    "##### it in the word. And if the word is not from 0 to 9 then\n",
    "##### it should print that number is outside of the range and program should\n",
    "##### exit.\n",
    "##### For example:-\n",
    "##### input = 1\n",
    "##### output = one\n",
    "\n",
    "d = {0:'zero', 1:'one', 2:'two', 3:'three', 1:'one', 4:'four', 5:'five', 6:'six', 7:'seven', 8:'eight', 9:'nine'}\n",
    "inp = eval(input(\"Enter a number in the range of 0 to 9: \" ))\n",
    "if inp in d:\n",
    "    print(d[inp])\n",
    "else:\n",
    "    print(\"Outside the range\")\n",
    "    \n",
    "   "
   ]
  },
  {
   "cell_type": "code",
   "execution_count": 3,
   "metadata": {},
   "outputs": [
    {
     "name": "stdout",
     "output_type": "stream",
     "text": [
      "*******Dictionary********\n",
      "To add enter 1\n",
      "to subtract enter 2\n",
      "To multiply enter 3\n",
      "To divide enter 4\n",
      "To divide and find quotient enter 5\n",
      "To divide and find remainder enter 6\n",
      "To divide and find num1 to the power of num2 enter 7\n",
      "To Come out of the program enter 8\n",
      "To perform the desired operation, Enter a number following the given instructions: 8\n"
     ]
    }
   ],
   "source": [
    "# Q. W. A P. to implement calculator but the operation to be done and two\n",
    "# numbers will be taken as input from user:-\n",
    "# Operation console should show below:-\n",
    "# Please select any one operation from below:-\n",
    "# * To add enter 1\n",
    "# * to subtract enter 2\n",
    "# * To multiply enter 3\n",
    "# * To divide enter 4\n",
    "# * To divide and find quotient enter 5\n",
    "# * To divide and find remainder enter 6\n",
    "# * To divide and find num1 to the power of num2 enter 7\n",
    "# * To Come out of the program enter 8\n",
    "\n",
    "print(\"*******Dictionary********\")\n",
    "print(\"To add enter 1\")\n",
    "print(\"to subtract enter 2\")\n",
    "print(\"To multiply enter 3\")\n",
    "print(\"To divide enter 4\")\n",
    "print(\"To divide and find quotient enter 5\")\n",
    "print(\"To divide and find remainder enter 6\")\n",
    "print(\"To divide and find num1 to the power of num2 enter 7\")\n",
    "print(\"To Come out of the program enter 8\")\n",
    "command = eval(input(\"To perform the desired operation, Enter a number following the given instructions: \"))\n",
    "if command in range(8):\n",
    "    num1 = int(input(\"Enter the first number: \"))\n",
    "    num2 = int(input(\"Enter the second number: \"))\n",
    "    if command == 1:\n",
    "        print(num1+num2)\n",
    "    elif command == 2:\n",
    "        print(num1-num2)\n",
    "    elif command == 3:\n",
    "        print(num1*num2)\n",
    "    elif command == 4:\n",
    "        print(num1/num2)\n",
    "    elif command == 5:\n",
    "        print(num1//num2)\n",
    "    elif command == 6:\n",
    "        print(num1%num2)\n",
    "    elif command == 7:\n",
    "        print(num2**num1)"
   ]
  },
  {
   "cell_type": "code",
   "execution_count": 7,
   "metadata": {},
   "outputs": [
    {
     "name": "stdout",
     "output_type": "stream",
     "text": [
      "Enter the year to check whether it is leap year or not: 2002\n",
      "2002 is not a leap year\n"
     ]
    }
   ],
   "source": [
    "# Q. W A P to check whether a year entered by user is an leap year or not ?\n",
    "# Check with below input:-\n",
    "# leap year:- 2012 , 1968 , 2004 , 1200 , 1600 , 2400\n",
    "# Non-lear year:- 1971 , 2006 , 1700 , 1800 , 1900\n",
    "\n",
    "year = int(input(\"Enter the year to check whether it is leap year or not: \"))\n",
    "if year%4==0:\n",
    "    print(year,\" is a leap year\")\n",
    "else:\n",
    "    print(year,\"is not a leap year\")"
   ]
  },
  {
   "cell_type": "code",
   "execution_count": 8,
   "metadata": {},
   "outputs": [
    {
     "name": "stdout",
     "output_type": "stream",
     "text": [
      "Enter the number to check whether it is even or odd: 3\n",
      "3 is an odd number\n"
     ]
    }
   ],
   "source": [
    "# Q. W A P which takes one number from the user and checks whether it is\n",
    "# an even or odd number?, If it even then prints number is\n",
    "# even number else prints that number is odd number.\n",
    "\n",
    "num = int(input(\"Enter the number to check whether it is even or odd: \"))\n",
    "if num%2==0:\n",
    "    print(num,\" is an even number\")\n",
    "else:\n",
    "    print(num,\"is an odd number\")"
   ]
  },
  {
   "cell_type": "code",
   "execution_count": 15,
   "metadata": {},
   "outputs": [
    {
     "name": "stdout",
     "output_type": "stream",
     "text": [
      "Enter the first number: 12\n",
      "Enter the second number: 12\n",
      "num1 and num2 are equal\n"
     ]
    }
   ],
   "source": [
    "# Q. W A P which takes two numbers from the user and prints below output:-\n",
    "# 1 . num1 is greater than num2 if num1 is greater than num2\n",
    "# 2 . num1 is smaller than num2 if num1 is smaller than num2\n",
    "# 3 . num1 is equal to num2 if num1 and num2 are equal\n",
    "# Note:- 1 . Do this problem using if - else\n",
    "#        2 . Do this using ternary operator\n",
    "\n",
    "num1 = int(input(\"Enter the first number: \"))\n",
    "num2 = int(input(\"Enter the second number: \"))\n",
    "if num1>num2:\n",
    "    print('num1 is greater than num2')\n",
    "else:\n",
    "    if num1<num2:\n",
    "        print('num1 is smaller than num2')   \n",
    "    else:\n",
    "        print('num1 and num2 are equal') "
   ]
  },
  {
   "cell_type": "code",
   "execution_count": 18,
   "metadata": {},
   "outputs": [
    {
     "name": "stdout",
     "output_type": "stream",
     "text": [
      "Enter the first number: 100\n",
      "Enter the second number: 22\n",
      "Enter the third number: 45\n",
      "num1 is greater than num2 and num3\n"
     ]
    }
   ],
   "source": [
    "# Q. W A P which takes three numbers from the user and prints below\n",
    "# output:-\n",
    "# 1 . num1 is greater than num2 and num3 if num1 is greater than num2\n",
    "# and num3\n",
    "# 2 . num2 is greater than num1 and num3 if num2 is greater than num1\n",
    "# and num3\n",
    "# 3 . num3 is greater than num1 and num2 if num3 is greater than num1\n",
    "# and num2\n",
    "# Note:- 1 . Do this problem using if - elif - else\n",
    "#        2 . Do this using ternary operator\n",
    "#             a = a if a>b else b\n",
    "\n",
    "\n",
    "###Using if - elif - else\n",
    "num1 = int(input(\"Enter the first number: \"))\n",
    "num2 = int(input(\"Enter the second number: \"))\n",
    "num3 = int(input(\"Enter the third number: \"))\n",
    "if num1>num2 and num1>num3:\n",
    "    print('num1 is greater than num2 and num3')\n",
    "elif num2>num1 and num2>num3:\n",
    "    print('num2 is greater than num1 and num3')   \n",
    "else:\n",
    "    print('num3 is greater than num1 and num2') \n",
    "    "
   ]
  },
  {
   "cell_type": "code",
   "execution_count": 22,
   "metadata": {},
   "outputs": [
    {
     "name": "stdout",
     "output_type": "stream",
     "text": [
      "Enter the first number: 3\n",
      "Enter the second number: 2\n",
      "Enter the third number: 1\n",
      "num1 is greater than num2 and num3\n"
     ]
    }
   ],
   "source": [
    "###Using ternary operator\n",
    "\n",
    "num1 = int(input(\"Enter the first number: \"))\n",
    "num2 = int(input(\"Enter the second number: \"))\n",
    "num3 = int(input(\"Enter the third number: \"))\n",
    "\n",
    "result = print('num1 is greater than num2 and num3') if num1>num2 and num1>num3 else (print('num2 is greater than num1 and num3') if num2>num1 and num2>num3 else print('num3 is greater than num1 and num2'))"
   ]
  },
  {
   "cell_type": "markdown",
   "metadata": {},
   "source": [
    "## Loops - for loop, while loop"
   ]
  },
  {
   "cell_type": "code",
   "execution_count": 26,
   "metadata": {},
   "outputs": [
    {
     "name": "stdout",
     "output_type": "stream",
     "text": [
      "55\n"
     ]
    }
   ],
   "source": [
    "# Q. Write a Python program to find the length of the my_str using loop:-\n",
    "# Input:- 'Write a Python program to find the length of the my_str'\n",
    "# Output:- 55\n",
    "\n",
    "s = 'Write a Python program to find the length of the my_str'\n",
    "length = 0\n",
    "for i in range(len(s)):\n",
    "    length+=1\n",
    "print(length)"
   ]
  },
  {
   "cell_type": "code",
   "execution_count": 27,
   "metadata": {},
   "outputs": [
    {
     "name": "stdout",
     "output_type": "stream",
     "text": [
      "9\n"
     ]
    }
   ],
   "source": [
    "# Q. Write a Python program to find the total number of times letter 'p'\n",
    "# is appeared in the below string using loop:-\n",
    "# Input:- 'peter piper picked a peck of pickled peppers.\\n'\n",
    "# Output:- 9\n",
    "\n",
    "string = 'peter piper picked a peck of pickled peppers.\\n'\n",
    "counter = 0\n",
    "for i in string:\n",
    "    if i == 'p':\n",
    "        counter+=1\n",
    "print(counter)"
   ]
  },
  {
   "cell_type": "code",
   "execution_count": 28,
   "metadata": {},
   "outputs": [
    {
     "name": "stdout",
     "output_type": "stream",
     "text": [
      "0\n",
      "6\n",
      "8\n",
      "12\n",
      "21\n",
      "29\n",
      "37\n",
      "39\n",
      "40\n"
     ]
    }
   ],
   "source": [
    "# Q. Write a Python Program, to print all the indexes of all occurences of\n",
    "# letter 'p' appeared in the string using loop:-\n",
    "# Input:- 'peter piper picked a peck of pickled peppers.'\n",
    "# Output:-\n",
    "# 0\n",
    "# 6\n",
    "# 8\n",
    "# 12\n",
    "# 21\n",
    "# 29\n",
    "# 37\n",
    "# 39\n",
    "# 40\n",
    "\n",
    "s = 'peter piper picked a peck of pickled peppers.\\n'\n",
    "for i in range(len(string)):\n",
    "    if s[i] == 'p':\n",
    "        print(i)"
   ]
  },
  {
   "cell_type": "code",
   "execution_count": 2,
   "metadata": {},
   "outputs": [
    {
     "name": "stdout",
     "output_type": "stream",
     "text": [
      "['peter', 'piper', 'picked', 'a', 'peck', 'of', 'pickled', 'peppers']\n"
     ]
    }
   ],
   "source": [
    "# Q. Write a python program to find below output using loop:-\n",
    "# Input:- 'peter piper picked a peck of pickled peppers.'\n",
    "# Output:- [ 'peter' , 'piper' , 'picked' , 'a' , 'peck' , 'of' , 'pickled' ,\n",
    "# 'peppers' ]\n",
    "\n",
    "sentence = 'peter piper picked a peck of pickled peppers.'\n",
    "word = ''\n",
    "lst = []\n",
    "for i in sentence:\n",
    "    word = word+i\n",
    "    if i==\" \" or i==\".\":\n",
    "        lst.append(word[0:len(word)-1])\n",
    "        word = ''\n",
    "    else:\n",
    "        continue\n",
    "print(lst)"
   ]
  },
  {
   "cell_type": "code",
   "execution_count": 9,
   "metadata": {},
   "outputs": [
    {
     "name": "stdout",
     "output_type": "stream",
     "text": [
      "peppers pickled of peck a picked piper peter\n"
     ]
    }
   ],
   "source": [
    "# Q. Write a python program to find below output using loop:-\n",
    "# Input:- 'peter piper picked a peck of pickled peppers.'\n",
    "# Output:- 'peppers pickled of peck a picked piper peter'\n",
    "    \n",
    "s = 'peter piper picked a peck of pickled peppers.'\n",
    "w = ''\n",
    "lst = []\n",
    "for i in s:\n",
    "    w = w+i\n",
    "    if i==\" \" or i==\".\":\n",
    "        lst.append(w[0:len(w)-1])\n",
    "        w = ''\n",
    "    else:\n",
    "        continue\n",
    "print(\" \".join(lst[::-1]))"
   ]
  },
  {
   "cell_type": "code",
   "execution_count": 18,
   "metadata": {},
   "outputs": [
    {
     "name": "stdout",
     "output_type": "stream",
     "text": [
      ".sreppep delkcip fo kcep a dekcip repip retep\n"
     ]
    }
   ],
   "source": [
    "# Q. Write a python program to find below output using loop:-\n",
    "# Input:- 'peter piper picked a peck of pickled peppers.'\n",
    "# Output:- '.sreppep delkcip fo kcep a dekcip repip retep'\n",
    "\n",
    "s = 'peter piper picked a peck of pickled peppers.'\n",
    "lst = s.split(\" \")\n",
    "l = []\n",
    "for i in lst[::-1]:\n",
    "    w = i[::-1]\n",
    "    l.append(w)\n",
    "print(\" \".join(l))"
   ]
  },
  {
   "cell_type": "code",
   "execution_count": 24,
   "metadata": {},
   "outputs": [
    {
     "name": "stdout",
     "output_type": "stream",
     "text": [
      "retep repip dekcip a kcep fo delkcip sreppep\n"
     ]
    }
   ],
   "source": [
    "# Q. Write a python program to find below output using loop:-\n",
    "# Input:- 'peter piper picked a peck of pickled peppers.'\n",
    "# Output:- 'retep repip dekcip a kcep fo delkcip sreppep'\n",
    "\n",
    "s = 'peter piper picked a peck of pickled peppers.'\n",
    "lst = s[0:len(s)-1].split(\" \")\n",
    "l = []\n",
    "for i in lst:\n",
    "    w = i[::-1]\n",
    "    l.append(w)\n",
    "print(\" \".join(l))"
   ]
  },
  {
   "cell_type": "code",
   "execution_count": 29,
   "metadata": {},
   "outputs": [
    {
     "name": "stdout",
     "output_type": "stream",
     "text": [
      "Peter Piper Picked A Peck Of Pickled Peppers\n"
     ]
    }
   ],
   "source": [
    "# Q. Write a python program to find below output using loop:-\n",
    "# Input:- 'peter piper picked a peck of pickled peppers.'\n",
    "# Output:- 'Peter Piper Picked A Peck Of Pickled Peppers'\n",
    "\n",
    "s = 'peter piper picked a peck of pickled peppers.'\n",
    "l1 = s[0:len(s)-1].split(\" \")\n",
    "l2 = []\n",
    "for i in l1:\n",
    "    l2.append(i.capitalize())\n",
    "print(\" \".join(l2))"
   ]
  },
  {
   "cell_type": "code",
   "execution_count": 33,
   "metadata": {},
   "outputs": [
    {
     "name": "stdout",
     "output_type": "stream",
     "text": [
      "Peter piper picked a peck of pickled peppers\n"
     ]
    }
   ],
   "source": [
    "# Q. Write a python program to find below output using loop:-\n",
    "# Input:- 'Peter Piper Picked A Peck Of Pickled Peppers.'\n",
    "# Output:- 'Peter piper picked a peck of pickled peppers'\n",
    "\n",
    "s = 'Peter Piper Picked A Peck Of Pickled Peppers.'\n",
    "l1 = s[0:len(s)-1].split(\" \")\n",
    "l2 = []\n",
    "for i in l1:\n",
    "    l2.append(i.lower())\n",
    "sentence = \" \".join(l2)\n",
    "print(sentence.capitalize())"
   ]
  },
  {
   "cell_type": "code",
   "execution_count": 42,
   "metadata": {},
   "outputs": [
    {
     "name": "stdout",
     "output_type": "stream",
     "text": [
      "29\n"
     ]
    }
   ],
   "source": [
    "# Q. Write a python program to implement index method using loop. If\n",
    "# sub_str is found in my_str then it will print the index\n",
    "# of first occurrence of first character of matching string in my_str:-\n",
    "# Input:- my_str = 'Peter Piper Picked A Peck Of Pickled Peppers.' ,\n",
    "# sub_str = 'Pickl'\n",
    "# Output:- 29\n",
    "\n",
    "s = 'Peter Piper Picked A Peck Of Pickled Peppers.' \n",
    "ss = 'Pickl'\n",
    "while s.find(ss)!=-1:\n",
    "        print(s.index(ss))\n",
    "        break"
   ]
  },
  {
   "cell_type": "code",
   "execution_count": 2,
   "metadata": {},
   "outputs": [
    {
     "name": "stdout",
     "output_type": "stream",
     "text": [
      "Peter Piper Picked A Pack Of Pickled Peppers.\n"
     ]
    }
   ],
   "source": [
    "# Q. Write a python program to implement replace method using loop. If\n",
    "# sub_str is found in my_str then it will replace the first\n",
    "# occurrence of sub_str with new_str else it will will print sub_str not\n",
    "# found:-\n",
    "# Input:- my_str = 'Peter Piper Picked A Peck Of Pickled Peppers.' ,\n",
    "# sub_str = 'Peck' , new_str = 'Pack'\n",
    "# Output:- 'Peter Piper Picked A Pack Of Pickled Peppers.'\n",
    "\n",
    "my_str = 'Peter Piper Picked A Peck Of Pickled Peppers.'\n",
    "sub_str = 'Peck'\n",
    "new_str = 'Pack'\n",
    "lst = my_str.split(\" \")\n",
    "for i in lst:\n",
    "    if sub_str in my_str:\n",
    "        print(my_str.replace(sub_str, new_str))\n",
    "        break\n",
    "    else:\n",
    "        print('sub_str not found')"
   ]
  },
  {
   "cell_type": "code",
   "execution_count": 7,
   "metadata": {},
   "outputs": [
    {
     "name": "stdout",
     "output_type": "stream",
     "text": [
      "*********************Peck***********************\n"
     ]
    }
   ],
   "source": [
    "# Q. Write a python program to find below output (implements rjust and\n",
    "# ljust) using loop:-\n",
    "# Input:- 'Peter Piper Picked A Peck Of Pickled Peppers.' , sub_str =\n",
    "# 'Peck' ,\n",
    "# Output:- '*********************Peck********************'\n",
    "\n",
    "my_str = 'Peter Piper Picked A Peck Of Pickled Peppers.'\n",
    "sub_str = 'Peck'\n",
    "new_str = ''\n",
    "idx = my_str.index(sub_str)\n",
    "size = len(my_str)\n",
    "for i in range(size):\n",
    "    if i==idx: \n",
    "        new_str=new_str+sub_str\n",
    "    else:\n",
    "        new_str=new_str+'*'\n",
    "print(new_str)    "
   ]
  },
  {
   "cell_type": "code",
   "execution_count": 8,
   "metadata": {},
   "outputs": [
    {
     "name": "stdout",
     "output_type": "stream",
     "text": [
      "1\n",
      "['This', 'is', 'Python class']\n"
     ]
    }
   ],
   "source": [
    "# Q. Write a python program to find below output using loop:-\n",
    "# Input:- 'This is Python class' , sep = ' is' ,\n",
    "# Output:- [ 'This' , 'is' , 'Python class' ]\n",
    "\n",
    "mystr = 'This is Python class' \n",
    "sep = ' is' \n",
    "lst = mystr.split()\n",
    "newlst = []\n",
    "for i in range(len(lst)):\n",
    "    if sep in mystr and lst[i] == sep.strip():\n",
    "        \n",
    "        newlst = mystr.split(\" \", i+1)\n",
    "    else:\n",
    "        continue\n",
    "print(newlst)"
   ]
  },
  {
   "cell_type": "code",
   "execution_count": null,
   "metadata": {},
   "outputs": [],
   "source": []
  }
 ],
 "metadata": {
  "kernelspec": {
   "display_name": "Python 3",
   "language": "python",
   "name": "python3"
  },
  "language_info": {
   "codemirror_mode": {
    "name": "ipython",
    "version": 3
   },
   "file_extension": ".py",
   "mimetype": "text/x-python",
   "name": "python",
   "nbconvert_exporter": "python",
   "pygments_lexer": "ipython3",
   "version": "3.6.5"
  }
 },
 "nbformat": 4,
 "nbformat_minor": 2
}
